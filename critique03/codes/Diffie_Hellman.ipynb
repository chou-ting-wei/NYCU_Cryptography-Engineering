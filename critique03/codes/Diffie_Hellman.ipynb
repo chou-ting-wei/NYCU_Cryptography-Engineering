{
  "nbformat": 4,
  "nbformat_minor": 0,
  "metadata": {
    "colab": {
      "provenance": []
    },
    "kernelspec": {
      "name": "python3",
      "display_name": "Python 3"
    },
    "language_info": {
      "name": "python"
    }
  },
  "cells": [
    {
      "cell_type": "code",
      "execution_count": null,
      "metadata": {
        "id": "Ggs--YcpM4iv"
      },
      "outputs": [],
      "source": [
        "# subroutine for fast exponentiation\n",
        "def discrete_exponentiation(r, s, m, dp):\n",
        "    if dp[s] != -1:\n",
        "        return dp[s]\n",
        "    if s%2==0:\n",
        "        dp[s] = (discrete_exponentiation(r, s//2, m, dp) ** 2) % m\n",
        "        return dp[s]\n",
        "    dp[s] = ((discrete_exponentiation(r, s//2, m, dp) ** 2) * r) % m\n",
        "    return dp[s]\n"
      ]
    },
    {
      "cell_type": "code",
      "source": [
        "# the initiation part\n",
        "PUBLIC_MODULO = 25747 #choose it yourself\n",
        "PUBLIC_ROOT = 3752  #choose it yourself\n",
        "my_secure_num = int(input(\"Input your secret integer: \"))\n",
        "my_dp = [-1 for i in range(2048)]\n",
        "my_dp[0] = 1\n",
        "\n",
        "# generating the output message\n",
        "my_output = discrete_exponentiation(PUBLIC_ROOT, my_secure_num, PUBLIC_MODULO, my_dp)\n",
        "print(f\"Your output should be: {my_output}\")\n"
      ],
      "metadata": {
        "colab": {
          "base_uri": "https://localhost:8080/"
        },
        "id": "XqGj7SwKW8gL",
        "outputId": "a8fe0113-bc97-4b7c-86ff-f22ae95ef796"
      },
      "execution_count": null,
      "outputs": [
        {
          "output_type": "stream",
          "name": "stdout",
          "text": [
            "Input your secret integer: 756\n",
            "Your output should be: 2968\n"
          ]
        }
      ]
    },
    {
      "cell_type": "code",
      "source": [
        "# receiving the input message\n",
        "received = int(input(\"Input the message received: \"))\n",
        "\n",
        "# process the received message\n",
        "his_dp = [-1 for i in range(2048)]\n",
        "his_dp[0] = 1\n",
        "finalkey = discrete_exponentiation(received, my_secure_num, PUBLIC_MODULO, his_dp)\n",
        "print(f\"The final key between you two is: {finalkey}\")\n"
      ],
      "metadata": {
        "colab": {
          "base_uri": "https://localhost:8080/"
        },
        "id": "tYa9YXx9SkuE",
        "outputId": "1f0de892-d1e2-4089-9fef-ccad0f94a915"
      },
      "execution_count": null,
      "outputs": [
        {
          "output_type": "stream",
          "name": "stdout",
          "text": [
            "Input the message received: 9922\n",
            "The final key between you two is: 7833\n"
          ]
        }
      ]
    }
  ]
}